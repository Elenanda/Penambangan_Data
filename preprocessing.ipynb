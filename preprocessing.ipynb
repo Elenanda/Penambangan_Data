{
  "nbformat": 4,
  "nbformat_minor": 0,
  "metadata": {
    "colab": {
      "provenance": [],
      "authorship_tag": "ABX9TyPfoCaANvQhjx0oiNM+irhK",
      "include_colab_link": true
    },
    "kernelspec": {
      "name": "python3",
      "display_name": "Python 3"
    },
    "language_info": {
      "name": "python"
    }
  },
  "cells": [
    {
      "cell_type": "markdown",
      "metadata": {
        "id": "view-in-github",
        "colab_type": "text"
      },
      "source": [
        "<a href=\"https://colab.research.google.com/github/Elenanda/Penambangan_Data/blob/main/preprocessing.ipynb\" target=\"_parent\"><img src=\"https://colab.research.google.com/assets/colab-badge.svg\" alt=\"Open In Colab\"/></a>"
      ]
    },
    {
      "cell_type": "code",
      "execution_count": 1,
      "metadata": {
        "id": "krKfETK6bC9m"
      },
      "outputs": [],
      "source": [
        "# --------------------------------------------------------------------------\n",
        "# Langkah 1: Mengimpor library yang diperlukan\n",
        "# --------------------------------------------------------------------------\n",
        "import numpy as np\n",
        "import pandas as pd\n",
        "from sklearn.impute import SimpleImputer\n",
        "from sklearn.compose import ColumnTransformer\n",
        "from sklearn.preprocessing import OneHotEncoder, LabelEncoder, StandardScaler\n",
        "from sklearn.model_selection import train_test_split"
      ]
    },
    {
      "cell_type": "markdown",
      "metadata": {
        "id": "fc408771"
      },
      "source": [
        "Kode ini mengimpor library Python yang diperlukan untuk pra-pemrosesan data dan tugas-tugas machine learning.\n",
        "\n",
        "*   `import numpy as np`: Mengimpor library NumPy, yang umum digunakan untuk operasi numerik dan penanganan array. Diberi alias `np`.\n",
        "*   `import pandas as pd`: Mengimpor library pandas, penting untuk bekerja dengan struktur data seperti DataFrame (tabel). Diberi alias `pd`.\n",
        "*   `from sklearn.impute import SimpleImputer`: Mengimpor `SimpleImputer` dari scikit-learn, digunakan untuk menangani data yang hilang (missing data).\n",
        "*   `from sklearn.compose import ColumnTransformer`: Mengimpor `ColumnTransformer` dari scikit-learn, digunakan untuk menerapkan transformasi yang berbeda pada kolom yang berbeda.\n",
        "*   `from sklearn.preprocessing import OneHotEncoder, LabelEncoder, StandardScaler`: Mengimpor `OneHotEncoder` (untuk encoding fitur kategorikal), `LabelEncoder` (untuk encoding variabel target), dan `StandardScaler` (untuk penskalaan fitur) dari scikit-learn.\n",
        "*   `from sklearn.model_selection import train_test_split`: Mengimpor `train_test_split` dari scikit-learn, digunakan untuk membagi dataset menjadi set pelatihan (training set) dan set pengujian (testing set)."
      ]
    },
    {
      "cell_type": "code",
      "source": [
        "# --------------------------------------------------------------------------\n",
        "# Langkah 2: Membuat dan memuat dataset\n",
        "# --------------------------------------------------------------------------\n",
        "# Membuat DataFrame (tabel data) menggunakan pandas\n",
        "# np.nan merepresentasikan data yang hilang (missing value)\n",
        "data = {\n",
        "    'Negara': ['Indonesia', 'Thailand', 'Jepang', 'Thailand', 'Jepang', 'Indonesia', 'Thailand', 'Indonesia', 'Jepang', 'Indonesia'],\n",
        "    'Usia': [44, 27, 30, 38, 40, 35, np.nan, 48, 50, 37],\n",
        "    'Gaji': [72000, 48000, 54000, 61000, np.nan, 58000, 52000, 79000, 83000, 67000],\n",
        "    'Membeli': ['Tidak', 'Ya', 'Tidak', 'Tidak', 'Ya', 'Ya', 'Tidak', 'Ya', 'Tidak', 'Ya']\n",
        "}\n",
        "dataset = pd.DataFrame(data)"
      ],
      "metadata": {
        "id": "TJAKenYdblzh"
      },
      "execution_count": 2,
      "outputs": []
    },
    {
      "cell_type": "markdown",
      "metadata": {
        "id": "6905d9b9"
      },
      "source": [
        "Sel kode ini membuat dataset sederhana menggunakan library pandas.\n",
        "\n",
        "*   `data = {...}`: Ini mendefinisikan sebuah dictionary Python bernama `data`. Dictionary ini berisi empat kunci: 'Negara', 'Usia', 'Gaji', dan 'Membeli'. Setiap kunci memiliki daftar nilai yang terkait dengannya. Perhatikan bahwa `np.nan` digunakan untuk merepresentasikan nilai yang hilang (missing values) di kolom 'Usia' dan 'Gaji'.\n",
        "*   `dataset = pd.DataFrame(data)`: Baris ini menggunakan dictionary `data` untuk membuat objek DataFrame pandas. DataFrame adalah struktur data tabular, mirip dengan spreadsheet atau tabel database, yang sangat umum digunakan dalam analisis data di Python."
      ]
    },
    {
      "cell_type": "code",
      "source": [
        "print(\"Dataset Awal:\")\n",
        "print(dataset)\n",
        "print(\"-\" * 30)"
      ],
      "metadata": {
        "colab": {
          "base_uri": "https://localhost:8080/"
        },
        "id": "e9e9RF3DbnLh",
        "outputId": "5e1b09fb-5620-4819-ab0a-cd725d31cbad"
      },
      "execution_count": 3,
      "outputs": [
        {
          "output_type": "stream",
          "name": "stdout",
          "text": [
            "Dataset Awal:\n",
            "      Negara  Usia     Gaji Membeli\n",
            "0  Indonesia  44.0  72000.0   Tidak\n",
            "1   Thailand  27.0  48000.0      Ya\n",
            "2     Jepang  30.0  54000.0   Tidak\n",
            "3   Thailand  38.0  61000.0   Tidak\n",
            "4     Jepang  40.0      NaN      Ya\n",
            "5  Indonesia  35.0  58000.0      Ya\n",
            "6   Thailand   NaN  52000.0   Tidak\n",
            "7  Indonesia  48.0  79000.0      Ya\n",
            "8     Jepang  50.0  83000.0   Tidak\n",
            "9  Indonesia  37.0  67000.0      Ya\n",
            "------------------------------\n"
          ]
        }
      ]
    },
    {
      "cell_type": "markdown",
      "metadata": {
        "id": "cd0c53dc"
      },
      "source": [
        "Kode ini bertujuan untuk mencetak dataset awal ke konsol.\n",
        "\n",
        "*   `print(\"Dataset Awal:\")`: Mencetak string \"Dataset Awal:\" ke konsol. Ini berfungsi sebagai judul untuk output dataset.\n",
        "*   `print(dataset)`: Mencetak seluruh isi DataFrame `dataset` ke konsol. Ini menunjukkan data dalam format tabel seperti yang dibuat pada langkah sebelumnya, termasuk nilai-nilai yang hilang (`NaN`).\n",
        "*   `print(\"-\" * 30)`: Mencetak garis pemisah yang terdiri dari 30 karakter strip (-) ke konsol. Ini membantu memisahkan output bagian ini dari bagian lain dalam output konsol, membuatnya lebih mudah dibaca."
      ]
    },
    {
      "cell_type": "code",
      "source": [
        "# Memisahkan antara fitur (variabel independen) dan target (variabel dependen)\n",
        "# X berisi kolom 'Negara', 'Usia', 'Gaji'\n",
        "# y berisi kolom 'Membeli'\n",
        "X = dataset.iloc[:, :-1].values\n",
        "y = dataset.iloc[:, -1].values\n"
      ],
      "metadata": {
        "id": "WsqR-Bg_bwOv"
      },
      "execution_count": 4,
      "outputs": []
    },
    {
      "cell_type": "markdown",
      "metadata": {
        "id": "691a7a73"
      },
      "source": [
        "Kode ini bertujuan untuk memisahkan dataset menjadi fitur (variabel independen) dan target (variabel dependen).\n",
        "\n",
        "*   `X = dataset.iloc[:, :-1].values`: Baris ini memilih semua baris (`:`) dan semua kolom kecuali kolom terakhir (`:-1`) dari DataFrame `dataset`. `.values` mengubah subset DataFrame yang dipilih menjadi array NumPy. Array `X` sekarang berisi kolom 'Negara', 'Usia', dan 'Gaji', yang merupakan fitur.\n",
        "*   `y = dataset.iloc[:, -1].values`: Baris ini memilih semua baris (`:`) dan hanya kolom terakhir (`-1`) dari DataFrame `dataset`. `.values` mengubah subset DataFrame yang dipilih menjadi array NumPy. Array `y` sekarang berisi kolom 'Membeli', yang merupakan target atau variabel dependen yang ingin kita prediksi."
      ]
    },
    {
      "cell_type": "code",
      "source": [
        "print(\"Fitur (X) sebelum diproses:\")\n",
        "print(X)\n",
        "print(\"\\nTarget (y) sebelum diproses:\")\n",
        "print(y)\n",
        "print(\"-\" * 30)"
      ],
      "metadata": {
        "colab": {
          "base_uri": "https://localhost:8080/"
        },
        "id": "BCAk4JXRbypv",
        "outputId": "6146a928-54ec-4224-f72e-d712b0ac1054"
      },
      "execution_count": 5,
      "outputs": [
        {
          "output_type": "stream",
          "name": "stdout",
          "text": [
            "Fitur (X) sebelum diproses:\n",
            "[['Indonesia' 44.0 72000.0]\n",
            " ['Thailand' 27.0 48000.0]\n",
            " ['Jepang' 30.0 54000.0]\n",
            " ['Thailand' 38.0 61000.0]\n",
            " ['Jepang' 40.0 nan]\n",
            " ['Indonesia' 35.0 58000.0]\n",
            " ['Thailand' nan 52000.0]\n",
            " ['Indonesia' 48.0 79000.0]\n",
            " ['Jepang' 50.0 83000.0]\n",
            " ['Indonesia' 37.0 67000.0]]\n",
            "\n",
            "Target (y) sebelum diproses:\n",
            "['Tidak' 'Ya' 'Tidak' 'Tidak' 'Ya' 'Ya' 'Tidak' 'Ya' 'Tidak' 'Ya']\n",
            "------------------------------\n"
          ]
        }
      ]
    },
    {
      "cell_type": "markdown",
      "metadata": {
        "id": "27858df0"
      },
      "source": [
        "Kode ini bertujuan untuk mencetak fitur (variabel independen) dan target (variabel dependen) ke konsol sebelum proses pra-pemrosesan lebih lanjut.\n",
        "\n",
        "*   `print(\"Fitur (X) sebelum diproses:\")`: Mencetak string \"Fitur (X) sebelum diproses:\" ke konsol sebagai judul.\n",
        "*   `print(X)`: Mencetak array NumPy `X` yang berisi fitur-fitur dataset sebelum dilakukan penanganan missing values atau encoding.\n",
        "*   `print(\"\\nTarget (y) sebelum diproses:\")`: Mencetak baris kosong (`\\n`) diikuti string \"Target (y) sebelum diproses:\" sebagai judul.\n",
        "*   `print(y)`: Mencetak array NumPy `y` yang berisi variabel target sebelum dilakukan encoding.\n",
        "*   `print(\"-\" * 30)`: Mencetak garis pemisah yang terdiri dari 30 karakter strip (-) ke konsol untuk memisahkan output bagian ini."
      ]
    },
    {
      "cell_type": "code",
      "source": [
        "# --------------------------------------------------------------------------\n",
        "# Langkah 3: Menangani data yang hilang (Missing Data)\n",
        "# --------------------------------------------------------------------------\n",
        "# Kita akan mengisi nilai NaN pada kolom numerik ('Usia' dan 'Gaji') dengan nilai rata-rata (mean)\n",
        "# dari kolom tersebut.\n",
        "imputer = SimpleImputer(missing_values=np.nan, strategy='mean')\n",
        "\n",
        "# Terapkan imputer pada kolom numerik (indeks 1 dan 2)\n",
        "X[:, 1:3] = imputer.fit_transform(X[:, 1:3])\n",
        "\n",
        "print(\"Fitur (X) setelah menangani missing values:\")\n",
        "print(X)\n",
        "print(\"-\" * 30)"
      ],
      "metadata": {
        "colab": {
          "base_uri": "https://localhost:8080/"
        },
        "id": "S7W5tf4FfpaY",
        "outputId": "6540540f-a8c4-42c9-a9a4-534ded3055f0"
      },
      "execution_count": 6,
      "outputs": [
        {
          "output_type": "stream",
          "name": "stdout",
          "text": [
            "Fitur (X) setelah menangani missing values:\n",
            "[['Indonesia' 44.0 72000.0]\n",
            " ['Thailand' 27.0 48000.0]\n",
            " ['Jepang' 30.0 54000.0]\n",
            " ['Thailand' 38.0 61000.0]\n",
            " ['Jepang' 40.0 63777.77777777778]\n",
            " ['Indonesia' 35.0 58000.0]\n",
            " ['Thailand' 38.77777777777778 52000.0]\n",
            " ['Indonesia' 48.0 79000.0]\n",
            " ['Jepang' 50.0 83000.0]\n",
            " ['Indonesia' 37.0 67000.0]]\n",
            "------------------------------\n"
          ]
        }
      ]
    },
    {
      "cell_type": "markdown",
      "metadata": {
        "id": "c2b2040f"
      },
      "source": [
        "Kode ini bertujuan untuk menangani data yang hilang (Missing Data) pada kolom numerik 'Usia' dan 'Gaji' dengan mengisi nilai-nilai yang hilang (NaN) menggunakan nilai rata-rata (mean) dari masing-masing kolom.\n",
        "\n",
        "*   `imputer = SimpleImputer(missing_values=np.nan, strategy='mean')`: Baris ini membuat objek `SimpleImputer`. `missing_values=np.nan` menentukan bahwa nilai yang akan diisi adalah `np.nan` (nilai yang hilang dalam NumPy). `strategy='mean'` menentukan bahwa strategi yang digunakan untuk mengisi nilai yang hilang adalah dengan nilai rata-rata dari kolom tersebut.\n",
        "*   `X[:, 1:3] = imputer.fit_transform(X[:, 1:3])`: Baris ini menerapkan `imputer` ke kolom kedua (`Usia`, indeks 1) dan kolom ketiga (`Gaji`, indeks 2) dari array `X`. `fit_transform()` pertama-tama mempelajari (fits) nilai rata-rata dari kolom-kolom tersebut (mengabaikan nilai yang hilang), kemudian mengisi (transforms) nilai yang hilang dengan rata-rata yang telah dipelajari. Hasilnya disimpan kembali ke kolom 1 dan 2 dari array `X`.\n",
        "*   `print(\"Fitur (X) setelah menangani missing values:\")`: Mencetak string sebagai judul.\n",
        "*   `print(X)`: Mencetak array `X` setelah nilai yang hilang diisi.\n",
        "*   `print(\"-\" * 30)`: Mencetak garis pemisah."
      ]
    },
    {
      "cell_type": "code",
      "source": [
        "# --------------------------------------------------------------------------\n",
        "# Langkah 4: Encoding Data Kategorikal\n",
        "# --------------------------------------------------------------------------\n",
        "# --- Encoding Fitur (Variabel Independen) ---\n",
        "# Kolom 'Negara' (indeks 0) adalah data kategorikal.\n",
        "# Kita akan mengubahnya menjadi angka menggunakan OneHotEncoder agar mesin bisa memprosesnya.\n",
        "# OneHotEncoder akan membuat kolom baru untuk setiap kategori negara.\n",
        "ct = ColumnTransformer(transformers=[('encoder', OneHotEncoder(), [0])], remainder='passthrough')\n",
        "X = np.array(ct.fit_transform(X))\n",
        "\n",
        "print(\"Fitur (X) setelah OneHotEncoder pada kolom 'Negara':\")\n",
        "print(X)\n",
        "print(\"-\" * 30)\n",
        "\n",
        "# --- Encoding Target (Variabel Dependen) ---\n",
        "# Kolom 'Membeli' ('Ya'/'Tidak') juga perlu diubah menjadi angka (misal: 1/0).\n",
        "# Kita gunakan LabelEncoder untuk ini.\n",
        "le = LabelEncoder()\n",
        "y = le.fit_transform(y)\n",
        "\n",
        "print(\"Target (y) setelah LabelEncoder:\")\n",
        "print(y)\n",
        "print(\"-\" * 30)"
      ],
      "metadata": {
        "colab": {
          "base_uri": "https://localhost:8080/"
        },
        "id": "QoUJ4GlMfu4W",
        "outputId": "ba4329ba-9100-4ab9-b247-2624b3bb0260"
      },
      "execution_count": 8,
      "outputs": [
        {
          "output_type": "stream",
          "name": "stdout",
          "text": [
            "Fitur (X) setelah OneHotEncoder pada kolom 'Negara':\n",
            "[[0.0 1.0 0.0 0.0 44.0 72000.0]\n",
            " [1.0 0.0 0.0 1.0 27.0 48000.0]\n",
            " [1.0 0.0 1.0 0.0 30.0 54000.0]\n",
            " [1.0 0.0 0.0 1.0 38.0 61000.0]\n",
            " [1.0 0.0 1.0 0.0 40.0 63777.77777777778]\n",
            " [0.0 1.0 0.0 0.0 35.0 58000.0]\n",
            " [1.0 0.0 0.0 1.0 38.77777777777778 52000.0]\n",
            " [0.0 1.0 0.0 0.0 48.0 79000.0]\n",
            " [1.0 0.0 1.0 0.0 50.0 83000.0]\n",
            " [0.0 1.0 0.0 0.0 37.0 67000.0]]\n",
            "------------------------------\n",
            "Target (y) setelah LabelEncoder:\n",
            "[0 1 0 0 1 1 0 1 0 1]\n",
            "------------------------------\n"
          ]
        }
      ]
    },
    {
      "cell_type": "markdown",
      "metadata": {
        "id": "cf51fe03"
      },
      "source": [
        "Kode ini bertujuan untuk melakukan *encoding* pada data kategorikal, baik untuk fitur (kolom 'Negara') maupun target (kolom 'Membeli').\n",
        "\n",
        "**--- Encoding Fitur (Variabel Independen) ---**\n",
        "\n",
        "*   `ct = ColumnTransformer(transformers=[('encoder', OneHotEncoder(), [0])], remainder='passthrough')`: Baris ini membuat objek `ColumnTransformer`. `ColumnTransformer` memungkinkan kita menerapkan transformasi yang berbeda pada kolom yang berbeda dalam array `X`.\n",
        "    *   `transformers=[('encoder', OneHotEncoder(), [0])]`: Ini mendefinisikan transformasi yang akan diterapkan.\n",
        "        *   `'encoder'`: Nama untuk transformasi ini.\n",
        "        *   `OneHotEncoder()`: Transformer yang akan digunakan. `OneHotEncoder` digunakan untuk mengubah data kategorikal menjadi format one-hot encoding, di mana setiap kategori diubah menjadi kolom biner (0 atau 1).\n",
        "        *   `[0]`: Indeks kolom tempat `OneHotEncoder` akan diterapkan, yaitu kolom 'Negara'.\n",
        "    *   `remainder='passthrough'`: Ini menentukan apa yang terjadi pada kolom-kolom lain yang tidak disebutkan dalam `transformers`. `passthrough` berarti kolom-kolom lainnya (kolom 'Usia' dan 'Gaji' setelah penanganan missing values) akan dilewatkan tanpa perubahan.\n",
        "*   `X = np.array(ct.fit_transform(X))`: Baris ini menerapkan `ColumnTransformer` ke array `X`. `fit_transform()` pertama-tama mempelajari kategori unik di kolom 'Negara' (dengan `fit()`), kemudian menerapkan one-hot encoding ke kolom tersebut dan menggabungkannya dengan kolom-kolom lain yang dilewatkan (dengan `transform()`). Hasilnya dikonversi kembali menjadi array NumPy dan disimpan kembali ke `X`.\n",
        "\n",
        "**--- Encoding Target (Variabel Dependen) ---**\n",
        "\n",
        "*   `le = LabelEncoder()`: Baris ini membuat objek `LabelEncoder`. `LabelEncoder` digunakan untuk mengubah label target kategorikal menjadi angka (misalnya, 'Tidak' menjadi 0 dan 'Ya' menjadi 1). Ini diperlukan karena sebagian besar algoritma machine learning memerlukan target dalam format numerik.\n",
        "*   `y = le.fit_transform(y)`: Baris ini menerapkan `LabelEncoder` ke array target `y`. `fit_transform()` pertama-tama mempelajari kategori unik di `y` ('Ya' dan 'Tidak') dan menetapkan nilai numerik untuk masing-masing, lalu mengubah nilai di `y` sesuai dengan penetapan tersebut. Hasilnya disimpan kembali ke `y`.\n",
        "*   `print(...)`: Baris-baris `print` digunakan untuk menampilkan array `X` dan `y` setelah proses encoding."
      ]
    },
    {
      "cell_type": "code",
      "source": [
        "# --------------------------------------------------------------------------\n",
        "# Langkah 5: Membagi dataset menjadi Data Latih dan Data Uji\n",
        "# --------------------------------------------------------------------------\n",
        "# Dataset akan dibagi menjadi 80% data latih (untuk melatih model) dan 20% data uji (untuk menguji performa model).\n",
        "# random_state=1 agar hasil pembagiannya selalu sama setiap kali kode dijalankan.\n",
        "X_train, X_test, y_train, y_test = train_test_split(X, y, test_size=0.2, random_state=1)\n",
        "\n",
        "print(\"X_train (Data Latih Fitur):\")\n",
        "print(X_train)\n",
        "print(\"\\nX_test (Data Uji Fitur):\")\n",
        "print(X_test)\n",
        "print(\"-\" * 30)"
      ],
      "metadata": {
        "colab": {
          "base_uri": "https://localhost:8080/"
        },
        "id": "w0TjyA2Kf1Im",
        "outputId": "509ed21d-4749-46d1-c1fa-ce2949a1e4a4"
      },
      "execution_count": 9,
      "outputs": [
        {
          "output_type": "stream",
          "name": "stdout",
          "text": [
            "X_train (Data Latih Fitur):\n",
            "[[1.0 0.0 0.0 1.0 38.77777777777778 52000.0]\n",
            " [1.0 0.0 1.0 0.0 40.0 63777.77777777778]\n",
            " [0.0 1.0 0.0 0.0 44.0 72000.0]\n",
            " [1.0 0.0 0.0 1.0 38.0 61000.0]\n",
            " [1.0 0.0 0.0 1.0 27.0 48000.0]\n",
            " [0.0 1.0 0.0 0.0 48.0 79000.0]\n",
            " [1.0 0.0 1.0 0.0 50.0 83000.0]\n",
            " [0.0 1.0 0.0 0.0 35.0 58000.0]]\n",
            "\n",
            "X_test (Data Uji Fitur):\n",
            "[[1.0 0.0 1.0 0.0 30.0 54000.0]\n",
            " [0.0 1.0 0.0 0.0 37.0 67000.0]]\n",
            "------------------------------\n"
          ]
        }
      ]
    },
    {
      "cell_type": "markdown",
      "metadata": {
        "id": "202a6f86"
      },
      "source": [
        "Kode ini bertujuan untuk membagi dataset menjadi data latih dan data uji.\n",
        "\n",
        "*   `X_train, X_test, y_train, y_test = train_test_split(X, y, test_size=0.2, random_state=1)`: Baris ini menggunakan fungsi `train_test_split` dari scikit-learn untuk membagi array fitur `X` dan array target `y` menjadi subset pelatihan dan pengujian.\n",
        "    *   `X`: Array fitur yang akan dibagi.\n",
        "    *   `y`: Array target yang akan dibagi.\n",
        "    *   `test_size=0.2`: Menentukan proporsi dataset yang akan dialokasikan untuk set pengujian. Dalam kasus ini, 20% dari data akan menjadi data uji, dan sisanya (80%) akan menjadi data latih.\n",
        "    *   `random_state=1`: Ini adalah *seed* untuk generator angka acak. Mengatur `random_state` ke nilai tertentu (seperti 1) memastikan bahwa pembagian dataset akan selalu sama setiap kali kode dijalankan, yang penting untuk reproduksibilitas hasil.\n",
        "*   `print(...)`: Baris-baris `print` digunakan untuk menampilkan array `X_train` dan `X_test` setelah proses pembagian."
      ]
    },
    {
      "cell_type": "code",
      "source": [
        "# --------------------------------------------------------------------------\n",
        "# Langkah 6: Feature Scaling (Penskalaan Fitur)\n",
        "# --------------------------------------------------------------------------\n",
        "# Langkah ini bertujuan untuk menyamakan skala nilai dari semua fitur numerik\n",
        "# agar tidak ada fitur yang mendominasi fitur lainnya.\n",
        "# Kita akan menggunakan StandardScaler.\n",
        "sc = StandardScaler()\n",
        "\n",
        "# Terapkan scaling pada semua kolom fitur di data latih dan data uji\n",
        "X_train = sc.fit_transform(X_train)\n",
        "X_test = sc.transform(X_test) # Gunakan transform() saja untuk data uji\n",
        "\n",
        "print(\"X_train setelah Feature Scaling:\")\n",
        "print(X_train)\n",
        "print(\"\\nX_test setelah Feature Scaling:\")\n",
        "print(X_test)\n",
        "print(\"-\" * 30)\n",
        "\n",
        "print(\"PROSES PREPROCESSING SELESAI!\")"
      ],
      "metadata": {
        "colab": {
          "base_uri": "https://localhost:8080/"
        },
        "id": "hJbiE-T-f9yO",
        "outputId": "1dffceb0-d822-4a84-bb05-487238d8ac4a"
      },
      "execution_count": 12,
      "outputs": [
        {
          "output_type": "stream",
          "name": "stdout",
          "text": [
            "X_train setelah Feature Scaling:\n",
            "[[ 0.77459667 -0.77459667 -0.57735027  1.29099445 -0.19159184 -1.07812594]\n",
            " [ 0.77459667 -0.77459667  1.73205081 -0.77459667 -0.01411729 -0.07013168]\n",
            " [-1.29099445  1.29099445 -0.57735027 -0.77459667  0.56670851  0.63356243]\n",
            " [ 0.77459667 -0.77459667 -0.57735027  1.29099445 -0.30453019 -0.30786617]\n",
            " [ 0.77459667 -0.77459667 -0.57735027  1.29099445 -1.90180114 -1.42046362]\n",
            " [-1.29099445  1.29099445 -0.57735027 -0.77459667  1.14753431  1.23265336]\n",
            " [ 0.77459667 -0.77459667  1.73205081 -0.77459667  1.43794721  1.57499104]\n",
            " [-1.29099445  1.29099445 -0.57735027 -0.77459667 -0.74014954 -0.56461943]]\n",
            "\n",
            "X_test setelah Feature Scaling:\n",
            "[[ 0.77459667 -0.77459667  1.73205081 -0.77459667 -1.46618179 -0.9069571 ]\n",
            " [-1.29099445  1.29099445 -0.57735027 -0.77459667 -0.44973664  0.20564034]]\n",
            "------------------------------\n",
            "PROSES PREPROCESSING SELESAI!\n"
          ]
        }
      ]
    },
    {
      "cell_type": "markdown",
      "metadata": {
        "id": "ff4d84a3"
      },
      "source": [
        "Kode ini bertujuan untuk melakukan *Feature Scaling* (Penskalaan Fitur) pada fitur-fitur numerik dalam dataset.\n",
        "\n",
        "*   `sc = StandardScaler()`: Baris ini membuat objek `StandardScaler`. `StandardScaler` menstandarkan fitur dengan menghapus rata-rata dan menskalakan ke varians unit. Ini penting karena banyak algoritma machine learning sensitif terhadap skala fitur input.\n",
        "*   `X_train = sc.fit_transform(X_train)`: Baris ini menerapkan `StandardScaler` ke set data latih (`X_train`). `fit_transform()` pertama-tama menghitung rata-rata dan standar deviasi dari setiap fitur di data latih (dengan `fit()`), kemudian menerapkan penskalaan menggunakan nilai-nilai yang dihitung tersebut (dengan `transform()`). Hasilnya disimpan kembali ke `X_train`.\n",
        "*   `X_test = sc.transform(X_test)`: Baris ini menerapkan `StandardScaler` ke set data uji (`X_test`). Penting untuk hanya menggunakan `transform()` pada data uji, BUKAN `fit_transform()`. Ini karena kita ingin menggunakan rata-rata dan standar deviasi yang dihitung dari data latih untuk menskalakan data uji, untuk menghindari kebocoran data (data leakage) dari set pengujian ke set pelatihan.\n",
        "*   `print(...)`: Baris-baris `print` digunakan untuk menampilkan array `X_train` dan `X_test` setelah proses penskalaan.\n",
        "*   `print(\"PROSES PREPROCESSING SELESAI!\")`: Mencetak pesan yang menandakan bahwa semua langkah pra-pemrosesan telah selesai."
      ]
    }
  ]
}