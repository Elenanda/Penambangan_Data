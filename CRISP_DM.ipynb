{
  "nbformat": 4,
  "nbformat_minor": 0,
  "metadata": {
    "colab": {
      "provenance": [],
      "authorship_tag": "ABX9TyP3JAI0pZsa3C5/rWRdOvV9",
      "include_colab_link": true
    },
    "kernelspec": {
      "name": "python3",
      "display_name": "Python 3"
    },
    "language_info": {
      "name": "python"
    }
  },
  "cells": [
    {
      "cell_type": "markdown",
      "metadata": {
        "id": "view-in-github",
        "colab_type": "text"
      },
      "source": [
        "<a href=\"https://colab.research.google.com/github/Elenanda/Penambangan_Data/blob/main/CRISP_DM.ipynb\" target=\"_parent\"><img src=\"https://colab.research.google.com/assets/colab-badge.svg\" alt=\"Open In Colab\"/></a>"
      ]
    },
    {
      "cell_type": "code",
      "source": [
        "# ---------------------------------------------------------------------------\n",
        "# --- FASE 1 & 2: BUSINESS UNDERSTANDING & DATA UNDERSTANDING (SETUP & EDA) ---\n",
        "# ---------------------------------------------------------------------------\n",
        "# Tujuan: Memuat data dan melakukan eksplorasi awal untuk memahami isinya.\n",
        "\n",
        "import pandas as pd\n",
        "import numpy as np\n",
        "import matplotlib.pyplot as plt\n",
        "from sklearn.model_selection import train_test_split\n",
        "from sklearn.preprocessing import StandardScaler, OneHotEncoder\n",
        "from sklearn.compose import ColumnTransformer\n",
        "from sklearn.pipeline import Pipeline\n",
        "from sklearn.linear_model import LogisticRegression\n",
        "from sklearn.ensemble import RandomForestClassifier\n",
        "from sklearn.metrics import accuracy_score, classification_report, ConfusionMatrixDisplay"
      ],
      "metadata": {
        "id": "CX0iXQPa0tHz"
      },
      "execution_count": null,
      "outputs": []
    },
    {
      "cell_type": "code",
      "execution_count": null,
      "metadata": {
        "id": "wNNKEwgBzg_p"
      },
      "outputs": [],
      "source": [
        "# URL langsung ke file CSV\n",
        "url = 'https://raw.githubusercontent.com/IBM/telco-customer-churn-on-icp4d/master/data/Telco-Customer-Churn.csv'"
      ]
    },
    {
      "cell_type": "code",
      "source": [
        "# Membaca data menggunakan pandas\n",
        "df = pd.read_csv(url)"
      ],
      "metadata": {
        "id": "lrpI3AzZz4hy"
      },
      "execution_count": null,
      "outputs": []
    },
    {
      "cell_type": "code",
      "source": [
        "print(\"\\n--- Info Awal Dataset ---\")\n",
        "print(df.info())"
      ],
      "metadata": {
        "colab": {
          "base_uri": "https://localhost:8080/"
        },
        "id": "2tZ4p6Bv031s",
        "outputId": "dbfbd27b-7f91-4389-f5f8-f310a6d22c6d"
      },
      "execution_count": null,
      "outputs": [
        {
          "output_type": "stream",
          "name": "stdout",
          "text": [
            "\n",
            "--- Info Awal Dataset ---\n",
            "<class 'pandas.core.frame.DataFrame'>\n",
            "RangeIndex: 7043 entries, 0 to 7042\n",
            "Data columns (total 21 columns):\n",
            " #   Column            Non-Null Count  Dtype  \n",
            "---  ------            --------------  -----  \n",
            " 0   customerID        7043 non-null   object \n",
            " 1   gender            7043 non-null   object \n",
            " 2   SeniorCitizen     7043 non-null   int64  \n",
            " 3   Partner           7043 non-null   object \n",
            " 4   Dependents        7043 non-null   object \n",
            " 5   tenure            7043 non-null   int64  \n",
            " 6   PhoneService      7043 non-null   object \n",
            " 7   MultipleLines     7043 non-null   object \n",
            " 8   InternetService   7043 non-null   object \n",
            " 9   OnlineSecurity    7043 non-null   object \n",
            " 10  OnlineBackup      7043 non-null   object \n",
            " 11  DeviceProtection  7043 non-null   object \n",
            " 12  TechSupport       7043 non-null   object \n",
            " 13  StreamingTV       7043 non-null   object \n",
            " 14  StreamingMovies   7043 non-null   object \n",
            " 15  Contract          7043 non-null   object \n",
            " 16  PaperlessBilling  7043 non-null   object \n",
            " 17  PaymentMethod     7043 non-null   object \n",
            " 18  MonthlyCharges    7043 non-null   float64\n",
            " 19  TotalCharges      7043 non-null   object \n",
            " 20  Churn             7043 non-null   object \n",
            "dtypes: float64(1), int64(2), object(18)\n",
            "memory usage: 1.1+ MB\n",
            "None\n"
          ]
        }
      ]
    },
    {
      "cell_type": "code",
      "source": [
        "# Menampilkan 5 baris pertama dari data untuk memastikan berhasil dimuat\n",
        "print(df.head())"
      ],
      "metadata": {
        "colab": {
          "base_uri": "https://localhost:8080/"
        },
        "id": "TBQ71PHtz7DR",
        "outputId": "257b8695-e9ed-4ba7-88e9-cd42e5143112"
      },
      "execution_count": null,
      "outputs": [
        {
          "output_type": "stream",
          "name": "stdout",
          "text": [
            "   customerID  gender  SeniorCitizen Partner Dependents  tenure PhoneService  \\\n",
            "0  7590-VHVEG  Female              0     Yes         No       1           No   \n",
            "1  5575-GNVDE    Male              0      No         No      34          Yes   \n",
            "2  3668-QPYBK    Male              0      No         No       2          Yes   \n",
            "3  7795-CFOCW    Male              0      No         No      45           No   \n",
            "4  9237-HQITU  Female              0      No         No       2          Yes   \n",
            "\n",
            "      MultipleLines InternetService OnlineSecurity  ... DeviceProtection  \\\n",
            "0  No phone service             DSL             No  ...               No   \n",
            "1                No             DSL            Yes  ...              Yes   \n",
            "2                No             DSL            Yes  ...               No   \n",
            "3  No phone service             DSL            Yes  ...              Yes   \n",
            "4                No     Fiber optic             No  ...               No   \n",
            "\n",
            "  TechSupport StreamingTV StreamingMovies        Contract PaperlessBilling  \\\n",
            "0          No          No              No  Month-to-month              Yes   \n",
            "1          No          No              No        One year               No   \n",
            "2          No          No              No  Month-to-month              Yes   \n",
            "3         Yes          No              No        One year               No   \n",
            "4          No          No              No  Month-to-month              Yes   \n",
            "\n",
            "               PaymentMethod MonthlyCharges  TotalCharges Churn  \n",
            "0           Electronic check          29.85         29.85    No  \n",
            "1               Mailed check          56.95        1889.5    No  \n",
            "2               Mailed check          53.85        108.15   Yes  \n",
            "3  Bank transfer (automatic)          42.30       1840.75    No  \n",
            "4           Electronic check          70.70        151.65   Yes  \n",
            "\n",
            "[5 rows x 21 columns]\n"
          ]
        }
      ]
    },
    {
      "cell_type": "code",
      "source": [
        "print(\"\\n--- Statistik Deskriptif ---\")\n",
        "print(df.describe())"
      ],
      "metadata": {
        "colab": {
          "base_uri": "https://localhost:8080/"
        },
        "id": "Sg-kIhk-0-1j",
        "outputId": "d7d79243-e92d-4e81-8cfb-f1c380df6741"
      },
      "execution_count": null,
      "outputs": [
        {
          "output_type": "stream",
          "name": "stdout",
          "text": [
            "\n",
            "--- Statistik Deskriptif ---\n",
            "       SeniorCitizen       tenure  MonthlyCharges\n",
            "count    7043.000000  7043.000000     7043.000000\n",
            "mean        0.162147    32.371149       64.761692\n",
            "std         0.368612    24.559481       30.090047\n",
            "min         0.000000     0.000000       18.250000\n",
            "25%         0.000000     9.000000       35.500000\n",
            "50%         0.000000    29.000000       70.350000\n",
            "75%         0.000000    55.000000       89.850000\n",
            "max         1.000000    72.000000      118.750000\n"
          ]
        }
      ]
    },
    {
      "cell_type": "code",
      "source": [
        "print(\"\\n--- Distribusi Target Variable (Churn) ---\")\n",
        "print(df['Churn'].value_counts())"
      ],
      "metadata": {
        "colab": {
          "base_uri": "https://localhost:8080/"
        },
        "id": "faTZ1UAM1EKO",
        "outputId": "d108d3c7-0854-490d-f389-6f1bc4f7a1c1"
      },
      "execution_count": null,
      "outputs": [
        {
          "output_type": "stream",
          "name": "stdout",
          "text": [
            "\n",
            "--- Distribusi Target Variable (Churn) ---\n",
            "Churn\n",
            "No     5174\n",
            "Yes    1869\n",
            "Name: count, dtype: int64\n"
          ]
        }
      ]
    },
    {
      "cell_type": "code",
      "source": [
        "# ---------------------------------------------------------------------------\n",
        "# --- FASE 3: DATA PREPARATION (PERSIAPAN DATA) ---\n",
        "# ---------------------------------------------------------------------------\n",
        "# Tujuan: Membersihkan dan mentransformasi data agar siap untuk pemodelan.\n",
        "\n",
        "print(\"\\nMemulai proses persiapan data...\")\n",
        "\n",
        "# 1. Menangani CustomerID yang tidak relevan\n",
        "df = df.drop('customerID', axis=1)"
      ],
      "metadata": {
        "colab": {
          "base_uri": "https://localhost:8080/"
        },
        "id": "aWGekPlo1ury",
        "outputId": "ad239327-3e95-4659-ea2c-64ab5594b6d0"
      },
      "execution_count": null,
      "outputs": [
        {
          "output_type": "stream",
          "name": "stdout",
          "text": [
            "\n",
            "Memulai proses persiapan data...\n"
          ]
        }
      ]
    },
    {
      "cell_type": "code",
      "source": [
        "# 2. Menangani 'TotalCharges' yang seharusnya numerik\n",
        "# Mengubah 'TotalCharges' menjadi numerik, error akan menjadi NaN (Not a Number)\n",
        "df['TotalCharges'] = pd.to_numeric(df['TotalCharges'], errors='coerce')"
      ],
      "metadata": {
        "id": "biexXz2w1y7U"
      },
      "execution_count": null,
      "outputs": []
    },
    {
      "cell_type": "code",
      "source": [
        "# Menghapus baris yang memiliki nilai NaN (jumlahnya sedikit, jadi aman dihapus)\n",
        "df.dropna(inplace=True)"
      ],
      "metadata": {
        "id": "rx4I8zpS12p8"
      },
      "execution_count": null,
      "outputs": []
    },
    {
      "cell_type": "code",
      "source": [
        "# 3. Memisahkan fitur (X) dan target (y)\n",
        "X = df.drop('Churn', axis=1)\n",
        "y = df['Churn'].apply(lambda x: 1 if x == 'Yes' else 0) # Mengubah Yes/No menjadi 1/0"
      ],
      "metadata": {
        "id": "WF2DRsTM16Om"
      },
      "execution_count": null,
      "outputs": []
    },
    {
      "cell_type": "code",
      "source": [
        "# Membagi data menjadi data latih dan data uji (80% latih, 20% uji)\n",
        "X_train, X_test, y_train, y_test = train_test_split(X, y, test_size=0.2, random_state=42, stratify=y)\n",
        "print(f\"\\nData dibagi menjadi {X_train.shape[0]} baris data latih dan {X_test.shape[0]} baris data uji.\")"
      ],
      "metadata": {
        "colab": {
          "base_uri": "https://localhost:8080/"
        },
        "id": "b6nYUj7Z1-f4",
        "outputId": "ebe382af-0ce0-4a52-a2a0-ee191a354871"
      },
      "execution_count": null,
      "outputs": [
        {
          "output_type": "stream",
          "name": "stdout",
          "text": [
            "\n",
            "Data dibagi menjadi 5625 baris data latih dan 1407 baris data uji.\n"
          ]
        }
      ]
    },
    {
      "cell_type": "code",
      "source": [
        "# 5. Membuat pipeline untuk preprocessing\n",
        "# Preprocessing akan menangani variabel numerik dan kategorikal secara berbeda.\n",
        "\n",
        "# Identifikasi kolom numerik dan kategorikal\n",
        "numeric_features = ['tenure', 'MonthlyCharges', 'TotalCharges']\n",
        "categorical_features = X.select_dtypes(include=['object']).columns"
      ],
      "metadata": {
        "id": "ZR8AAx0s2KKR"
      },
      "execution_count": null,
      "outputs": []
    },
    {
      "cell_type": "code",
      "source": [
        "# Membuat transformer untuk setiap jenis kolom\n",
        "numeric_transformer = StandardScaler() # Scaling untuk numerik\n",
        "categorical_transformer = OneHotEncoder(handle_unknown='ignore') # One-Hot Encoding untuk kategorikal"
      ],
      "metadata": {
        "id": "7SC9QheI2OAj"
      },
      "execution_count": null,
      "outputs": []
    },
    {
      "cell_type": "code",
      "source": [
        "# Menggabungkan transformer menggunakan ColumnTransformer\n",
        "preprocessor = ColumnTransformer(\n",
        "    transformers=[\n",
        "        ('num', numeric_transformer, numeric_features),\n",
        "        ('cat', categorical_transformer, categorical_features)\n",
        "    ])\n",
        "\n",
        "print(\"Pipeline preprocessing berhasil dibuat.\")"
      ],
      "metadata": {
        "colab": {
          "base_uri": "https://localhost:8080/"
        },
        "id": "IXBFWzGi2Ro1",
        "outputId": "757d10a5-a8f2-4d8d-a6f7-3b89212b009d"
      },
      "execution_count": null,
      "outputs": [
        {
          "output_type": "stream",
          "name": "stdout",
          "text": [
            "Pipeline preprocessing berhasil dibuat.\n"
          ]
        }
      ]
    },
    {
      "cell_type": "code",
      "source": [
        "# ---------------------------------------------------------------------------\n",
        "# --- FASE 4: MODELING (PEMODELAN) ---\n",
        "# ---------------------------------------------------------------------------\n",
        "# Tujuan: Membangun model machine learning menggunakan data yang telah disiapkan.\n",
        "# Kita akan menggunakan Random Forest Classifier karena performanya yang baik.\n",
        "\n",
        "print(\"\\nMemulai proses pemodelan...\")\n",
        "\n",
        "# Membuat pipeline lengkap yang menggabungkan preprocessing dan model\n",
        "model = Pipeline(steps=[('preprocessor', preprocessor),\n",
        "                        ('classifier', RandomForestClassifier(random_state=42))])"
      ],
      "metadata": {
        "colab": {
          "base_uri": "https://localhost:8080/"
        },
        "id": "Zpoc08_k2cTw",
        "outputId": "44bb7c3d-5143-432d-fa67-096b170485fa"
      },
      "execution_count": null,
      "outputs": [
        {
          "output_type": "stream",
          "name": "stdout",
          "text": [
            "\n",
            "Memulai proses pemodelan...\n"
          ]
        }
      ]
    },
    {
      "cell_type": "code",
      "source": [
        "# Melatih model menggunakan data latih\n",
        "model.fit(X_train, y_train)\n",
        "\n",
        "print(\"Model berhasil dilatih!\")"
      ],
      "metadata": {
        "colab": {
          "base_uri": "https://localhost:8080/"
        },
        "id": "BmUxj6Ey2gmj",
        "outputId": "cb6a2c1a-2584-4cf9-e353-5e290c2401d4"
      },
      "execution_count": null,
      "outputs": [
        {
          "output_type": "stream",
          "name": "stdout",
          "text": [
            "Model berhasil dilatih!\n"
          ]
        }
      ]
    },
    {
      "cell_type": "code",
      "source": [
        "# ---------------------------------------------------------------------------\n",
        "# --- FASE 5: EVALUATION (EVALUASI) ---\n",
        "# ---------------------------------------------------------------------------\n",
        "# Tujuan: Mengevaluasi performa model pada data uji yang belum pernah dilihat sebelumnya.\n",
        "\n",
        "print(\"\\nMemulai evaluasi model...\")\n",
        "\n",
        "# Melakukan prediksi pada data uji\n",
        "y_pred = model.predict(X_test)"
      ],
      "metadata": {
        "colab": {
          "base_uri": "https://localhost:8080/"
        },
        "id": "tLnDGa5W2l0s",
        "outputId": "3abb2f07-91e2-4655-92ca-0d8321bee9ef"
      },
      "execution_count": null,
      "outputs": [
        {
          "output_type": "stream",
          "name": "stdout",
          "text": [
            "\n",
            "Memulai evaluasi model...\n"
          ]
        }
      ]
    },
    {
      "cell_type": "code",
      "source": [
        "# Menampilkan hasil evaluasi\n",
        "accuracy = accuracy_score(y_test, y_pred)\n",
        "print(f\"\\nAkurasi Model: {accuracy:.4f}\")"
      ],
      "metadata": {
        "colab": {
          "base_uri": "https://localhost:8080/"
        },
        "id": "v44EYM9x2qFj",
        "outputId": "3abf2ac9-5f94-4a07-d985-48790f9e0002"
      },
      "execution_count": null,
      "outputs": [
        {
          "output_type": "stream",
          "name": "stdout",
          "text": [
            "\n",
            "Akurasi Model: 0.7754\n"
          ]
        }
      ]
    },
    {
      "cell_type": "code",
      "source": [
        "print(\"\\nLaporan Klasifikasi Lengkap:\")\n",
        "print(classification_report(y_test, y_pred, target_names=['Tidak Churn', 'Churn']))"
      ],
      "metadata": {
        "colab": {
          "base_uri": "https://localhost:8080/"
        },
        "id": "8C1ov_Ix2t6b",
        "outputId": "7f12cabd-4989-4f75-bcad-fca8558fbaee"
      },
      "execution_count": null,
      "outputs": [
        {
          "output_type": "stream",
          "name": "stdout",
          "text": [
            "\n",
            "Laporan Klasifikasi Lengkap:\n",
            "              precision    recall  f1-score   support\n",
            "\n",
            " Tidak Churn       0.82      0.89      0.85      1033\n",
            "       Churn       0.60      0.46      0.52       374\n",
            "\n",
            "    accuracy                           0.78      1407\n",
            "   macro avg       0.71      0.68      0.69      1407\n",
            "weighted avg       0.76      0.78      0.77      1407\n",
            "\n"
          ]
        }
      ]
    },
    {
      "cell_type": "code",
      "source": [
        "print(\"\\nConfusion Matrix:\")\n",
        "# Menampilkan visualisasi confusion matrix\n",
        "fig, ax = plt.subplots(figsize=(6, 6))\n",
        "ConfusionMatrixDisplay.from_predictions(y_test, y_pred, ax=ax, display_labels=['Tidak Churn', 'Churn'], cmap='Blues')\n",
        "plt.title('Confusion Matrix')\n",
        "plt.show()"
      ],
      "metadata": {
        "colab": {
          "base_uri": "https://localhost:8080/",
          "height": 534
        },
        "id": "sjBZSU082zBn",
        "outputId": "10f6efe8-0a82-4b22-8008-07d7712d3a98"
      },
      "execution_count": null,
      "outputs": [
        {
          "output_type": "stream",
          "name": "stdout",
          "text": [
            "\n",
            "Confusion Matrix:\n"
          ]
        },
        {
          "output_type": "display_data",
          "data": {
            "text/plain": [
              "<Figure size 600x600 with 2 Axes>"
            ],
            "image/png": "[encoded data removed]"
          },
          "metadata": {}
        }
      ]
    },
    {
      "cell_type": "code",
      "source": [
        "# ---------------------------------------------------------------------------\n",
        "# --- FASE 6: DEPLOYMENT (SIMULASI PENYEBARAN) ---\n",
        "# ---------------------------------------------------------------------------\n",
        "# Tujuan: Mensimulasikan bagaimana model akan digunakan untuk memprediksi pelanggan baru.\n",
        "# Kita akan membuat fungsi yang menerima data pelanggan baru dan memberikan prediksi.\n",
        "\n",
        "print(\"\\n--- Simulasi Deployment ---\")\n",
        "\n",
        "def prediksi_churn_pelanggan_baru(data_pelanggan):\n",
        "    \"\"\"\n",
        "    Fungsi untuk memprediksi churn pada data pelanggan baru.\n",
        "    Input: sebuah dictionary berisi data pelanggan.\n",
        "    Output: string hasil prediksi.\n",
        "    \"\"\"\n",
        "    # Mengubah dictionary menjadi DataFrame\n",
        "    df_pelanggan = pd.DataFrame([data_pelanggan])\n",
        "\n",
        "    # Melakukan prediksi menggunakan model yang sudah dilatih\n",
        "    prediksi = model.predict(df_pelanggan)\n",
        "    probabilitas = model.predict_proba(df_pelanggan)\n",
        "\n",
        "    # Menginterpretasikan hasil\n",
        "    if prediksi[0] == 1:\n",
        "        hasil = f\"🚨 PREDIKSI: Pelanggan ini BERPOTENSI TINGGI untuk CHURN (Probabilitas: {probabilitas[0][1]:.2%})\"\n",
        "    else:\n",
        "        hasil = f\"✅ PREDIKSI: Pelanggan ini kemungkinan BESAR akan TETAP BERLANGGANAN (Probabilitas Churn: {probabilitas[0][1]:.2%})\"\n",
        "\n",
        "    return hasil\n"
      ],
      "metadata": {
        "colab": {
          "base_uri": "https://localhost:8080/"
        },
        "id": "hL56vM_021eL",
        "outputId": "429dda85-3526-4471-f342-b8553b377000"
      },
      "execution_count": null,
      "outputs": [
        {
          "output_type": "stream",
          "name": "stdout",
          "text": [
            "\n",
            "--- Simulasi Deployment ---\n"
          ]
        }
      ]
    },
    {
      "cell_type": "code",
      "source": [
        "# CONTOH PENGGUNAAN FUNGSI DEPLOYMENT\n",
        "\n",
        "# Contoh 1: Pelanggan yang berisiko tinggi untuk churn\n",
        "# (Kontrak bulanan, baru berlangganan, internet Fiber optic, tagihan tinggi)\n",
        "pelanggan_berisiko = {\n",
        "    'gender': 'Female', 'SeniorCitizen': 0, 'Partner': 'No', 'Dependents': 'No',\n",
        "    'tenure': 2, 'PhoneService': 'Yes', 'MultipleLines': 'No',\n",
        "    'InternetService': 'Fiber optic', 'OnlineSecurity': 'No', 'OnlineBackup': 'No',\n",
        "    'DeviceProtection': 'No', 'TechSupport': 'No', 'StreamingTV': 'No',\n",
        "    'StreamingMovies': 'No', 'Contract': 'Month-to-month', 'PaperlessBilling': 'Yes',\n",
        "    'PaymentMethod': 'Electronic check', 'MonthlyCharges': 75.50, 'TotalCharges': 150.50\n",
        "}"
      ],
      "metadata": {
        "id": "Z7yyMS-Z28Rc"
      },
      "execution_count": null,
      "outputs": []
    },
    {
      "cell_type": "code",
      "source": [
        "print(\"\\n--- Memprediksi Pelanggan Baru ---\")\n",
        "print(\"\\nKasus 1: Pelanggan Berisiko\")\n",
        "print(prediksi_churn_pelanggan_baru(pelanggan_berisiko))"
      ],
      "metadata": {
        "colab": {
          "base_uri": "https://localhost:8080/"
        },
        "id": "mqI_eljU4TI3",
        "outputId": "28728d3a-3115-4f6f-a12f-a8cc7e6f1b77"
      },
      "execution_count": null,
      "outputs": [
        {
          "output_type": "stream",
          "name": "stdout",
          "text": [
            "\n",
            "--- Memprediksi Pelanggan Baru ---\n",
            "\n",
            "Kasus 1: Pelanggan Berisiko\n",
            "🚨 PREDIKSI: Pelanggan ini BERPOTENSI TINGGI untuk CHURN (Probabilitas: 83.00%)\n"
          ]
        }
      ]
    },
    {
      "cell_type": "code",
      "source": [
        "# Contoh 2: Pelanggan setia yang berisiko rendah\n",
        "# (Kontrak dua tahun, sudah lama berlangganan, banyak layanan proteksi)\n",
        "pelanggan_setia = {\n",
        "    'gender': 'Male', 'SeniorCitizen': 0, 'Partner': 'Yes', 'Dependents': 'Yes',\n",
        "    'tenure': 68, 'PhoneService': 'Yes', 'MultipleLines': 'Yes',\n",
        "    'InternetService': 'DSL', 'OnlineSecurity': 'Yes', 'OnlineBackup': 'Yes',\n",
        "    'DeviceProtection': 'Yes', 'TechSupport': 'Yes', 'StreamingTV': 'Yes',\n",
        "    'StreamingMovies': 'Yes', 'Contract': 'Two year', 'PaperlessBilling': 'No',\n",
        "    'PaymentMethod': 'Credit card (automatic)', 'MonthlyCharges': 85.50, 'TotalCharges': 5800.00\n",
        "}"
      ],
      "metadata": {
        "id": "DOynx5_d4QA7"
      },
      "execution_count": null,
      "outputs": []
    },
    {
      "cell_type": "code",
      "source": [
        "print(\"\\nKasus 2: Pelanggan Setia\")\n",
        "print(prediksi_churn_pelanggan_baru(pelanggan_setia))"
      ],
      "metadata": {
        "id": "St4gvlCO4Y-B",
        "outputId": "dafa682f-9c62-45ce-ae82-b344135eb6fd",
        "colab": {
          "base_uri": "https://localhost:8080/"
        }
      },
      "execution_count": null,
      "outputs": [
        {
          "output_type": "stream",
          "name": "stdout",
          "text": [
            "\n",
            "Kasus 2: Pelanggan Setia\n",
            "✅ PREDIKSI: Pelanggan ini kemungkinan BESAR akan TETAP BERLANGGANAN (Probabilitas Churn: 0.00%)\n"
          ]
        }
      ]
    }
  ]
}